{
 "cells": [
  {
   "cell_type": "code",
   "execution_count": 1,
   "metadata": {},
   "outputs": [],
   "source": [
    "from datetime import datetime\n",
    "from airflow import DAG\n",
    "from airflow.operators.python import PythonOperator\n",
    "from utils import \n",
    "import json"
   ]
  },
  {
   "cell_type": "code",
   "execution_count": 2,
   "metadata": {},
   "outputs": [],
   "source": [
    "def data_pipelne(url):\n",
    "    zipont = download_zip(url)\n",
    "    upzip_files(zipont)\n"
   ]
  },
  {
   "cell_type": "code",
   "execution_count": 3,
   "metadata": {},
   "outputs": [
    {
     "name": "stdout",
     "output_type": "stream",
     "text": [
      "phuluso\n",
      "2025-09-08 08:00:00\n"
     ]
    }
   ],
   "source": [
    "for i in names:\n",
    "    print(names[i])"
   ]
  },
  {
   "cell_type": "code",
   "execution_count": 10,
   "metadata": {},
   "outputs": [
    {
     "name": "stdout",
     "output_type": "stream",
     "text": [
      "{'f_name': 'Mitchell', 'l_name': 'Steward', 'genger': 'male', 'location': 'United Kingdom'}\n"
     ]
    }
   ],
   "source": [
    "def get_data():\n",
    "    import requests\n",
    "    cc = requests.get('http://randomuser.me/api/')\n",
    "    res = cc.json()\n",
    "    return res.get('results')[0]\n",
    "\n",
    "\n",
    "def data_format(res):\n",
    "    data = {}\n",
    "    data['f_name'] = res['name']['first']\n",
    "    data['l_name'] = res['name']['last']\n",
    "    data['genger'] = res['gender']\n",
    "    data['location'] = res['location']['country']\n",
    "    return data\n",
    "\n",
    "\n",
    "def stream_data():\n",
    "    import json \n",
    "    ress = get_data()\n",
    "    ress = data_format(ress)\n",
    "    print(ress)\n",
    "\n",
    "    \n",
    "xs  = stream_data()\n",
    "xs\n"
   ]
  }
 ],
 "metadata": {
  "kernelspec": {
   "display_name": "venv",
   "language": "python",
   "name": "python3"
  },
  "language_info": {
   "codemirror_mode": {
    "name": "ipython",
    "version": 3
   },
   "file_extension": ".py",
   "mimetype": "text/x-python",
   "name": "python",
   "nbconvert_exporter": "python",
   "pygments_lexer": "ipython3",
   "version": "3.9.13"
  },
  "orig_nbformat": 4
 },
 "nbformat": 4,
 "nbformat_minor": 2
}
