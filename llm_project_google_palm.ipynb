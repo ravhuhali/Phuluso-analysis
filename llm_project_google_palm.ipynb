{
 "cells": [
  {
   "cell_type": "markdown",
   "metadata": {},
   "source": [
    "# Google plam LLM projejct \n",
    "* bulding an llm  based on the customer most answered questions"
   ]
  },
  {
   "cell_type": "code",
   "execution_count": 1,
   "metadata": {},
   "outputs": [
    {
     "name": "stdout",
     "output_type": "stream",
     "text": [
      "Collecting numpy<2\n",
      "  Using cached numpy-1.26.4-cp39-cp39-macosx_10_9_x86_64.whl.metadata (61 kB)\n",
      "Using cached numpy-1.26.4-cp39-cp39-macosx_10_9_x86_64.whl (20.6 MB)\n",
      "Installing collected packages: numpy\n",
      "  Attempting uninstall: numpy\n",
      "    Found existing installation: numpy 2.0.2\n",
      "    Uninstalling numpy-2.0.2:\n",
      "      Successfully uninstalled numpy-2.0.2\n",
      "Successfully installed numpy-1.26.4\n",
      "Collecting sentence-transformers==2.2.2\n",
      "  Using cached sentence_transformers-2.2.2-py3-none-any.whl\n",
      "Requirement already satisfied: transformers<5.0.0,>=4.6.0 in ./venv/lib/python3.9/site-packages (from sentence-transformers==2.2.2) (4.51.3)\n",
      "Requirement already satisfied: tqdm in ./venv/lib/python3.9/site-packages (from sentence-transformers==2.2.2) (4.67.1)\n",
      "Requirement already satisfied: torch>=1.6.0 in ./venv/lib/python3.9/site-packages (from sentence-transformers==2.2.2) (2.2.2)\n",
      "Requirement already satisfied: torchvision in ./venv/lib/python3.9/site-packages (from sentence-transformers==2.2.2) (0.17.2)\n",
      "Requirement already satisfied: numpy in ./venv/lib/python3.9/site-packages (from sentence-transformers==2.2.2) (1.26.4)\n",
      "Requirement already satisfied: scikit-learn in ./venv/lib/python3.9/site-packages (from sentence-transformers==2.2.2) (1.6.1)\n",
      "Requirement already satisfied: scipy in ./venv/lib/python3.9/site-packages (from sentence-transformers==2.2.2) (1.13.1)\n",
      "Requirement already satisfied: nltk in ./venv/lib/python3.9/site-packages (from sentence-transformers==2.2.2) (3.9.1)\n",
      "Requirement already satisfied: sentencepiece in ./venv/lib/python3.9/site-packages (from sentence-transformers==2.2.2) (0.2.0)\n",
      "Requirement already satisfied: huggingface-hub>=0.4.0 in ./venv/lib/python3.9/site-packages (from sentence-transformers==2.2.2) (0.30.2)\n",
      "Requirement already satisfied: filelock in ./venv/lib/python3.9/site-packages (from huggingface-hub>=0.4.0->sentence-transformers==2.2.2) (3.18.0)\n",
      "Requirement already satisfied: fsspec>=2023.5.0 in ./venv/lib/python3.9/site-packages (from huggingface-hub>=0.4.0->sentence-transformers==2.2.2) (2025.3.2)\n",
      "Requirement already satisfied: packaging>=20.9 in ./venv/lib/python3.9/site-packages (from huggingface-hub>=0.4.0->sentence-transformers==2.2.2) (25.0)\n",
      "Requirement already satisfied: pyyaml>=5.1 in ./venv/lib/python3.9/site-packages (from huggingface-hub>=0.4.0->sentence-transformers==2.2.2) (6.0.2)\n",
      "Requirement already satisfied: requests in ./venv/lib/python3.9/site-packages (from huggingface-hub>=0.4.0->sentence-transformers==2.2.2) (2.32.3)\n",
      "Requirement already satisfied: typing-extensions>=3.7.4.3 in ./venv/lib/python3.9/site-packages (from huggingface-hub>=0.4.0->sentence-transformers==2.2.2) (4.13.2)\n",
      "Requirement already satisfied: sympy in ./venv/lib/python3.9/site-packages (from torch>=1.6.0->sentence-transformers==2.2.2) (1.13.3)\n",
      "Requirement already satisfied: networkx in ./venv/lib/python3.9/site-packages (from torch>=1.6.0->sentence-transformers==2.2.2) (3.2.1)\n",
      "Requirement already satisfied: jinja2 in ./venv/lib/python3.9/site-packages (from torch>=1.6.0->sentence-transformers==2.2.2) (3.1.6)\n",
      "Requirement already satisfied: regex!=2019.12.17 in ./venv/lib/python3.9/site-packages (from transformers<5.0.0,>=4.6.0->sentence-transformers==2.2.2) (2024.11.6)\n",
      "Requirement already satisfied: tokenizers<0.22,>=0.21 in ./venv/lib/python3.9/site-packages (from transformers<5.0.0,>=4.6.0->sentence-transformers==2.2.2) (0.21.1)\n",
      "Requirement already satisfied: safetensors>=0.4.3 in ./venv/lib/python3.9/site-packages (from transformers<5.0.0,>=4.6.0->sentence-transformers==2.2.2) (0.5.3)\n",
      "Requirement already satisfied: click in ./venv/lib/python3.9/site-packages (from nltk->sentence-transformers==2.2.2) (8.1.8)\n",
      "Requirement already satisfied: joblib in ./venv/lib/python3.9/site-packages (from nltk->sentence-transformers==2.2.2) (1.4.2)\n",
      "Requirement already satisfied: threadpoolctl>=3.1.0 in ./venv/lib/python3.9/site-packages (from scikit-learn->sentence-transformers==2.2.2) (3.6.0)\n",
      "Requirement already satisfied: pillow!=8.3.*,>=5.3.0 in ./venv/lib/python3.9/site-packages (from torchvision->sentence-transformers==2.2.2) (11.2.1)\n",
      "Requirement already satisfied: MarkupSafe>=2.0 in ./venv/lib/python3.9/site-packages (from jinja2->torch>=1.6.0->sentence-transformers==2.2.2) (3.0.2)\n",
      "Requirement already satisfied: charset-normalizer<4,>=2 in ./venv/lib/python3.9/site-packages (from requests->huggingface-hub>=0.4.0->sentence-transformers==2.2.2) (3.4.1)\n",
      "Requirement already satisfied: idna<4,>=2.5 in ./venv/lib/python3.9/site-packages (from requests->huggingface-hub>=0.4.0->sentence-transformers==2.2.2) (3.10)\n",
      "Requirement already satisfied: urllib3<3,>=1.21.1 in ./venv/lib/python3.9/site-packages (from requests->huggingface-hub>=0.4.0->sentence-transformers==2.2.2) (2.4.0)\n",
      "Requirement already satisfied: certifi>=2017.4.17 in ./venv/lib/python3.9/site-packages (from requests->huggingface-hub>=0.4.0->sentence-transformers==2.2.2) (2025.4.26)\n",
      "Requirement already satisfied: mpmath<1.4,>=1.1.0 in ./venv/lib/python3.9/site-packages (from sympy->torch>=1.6.0->sentence-transformers==2.2.2) (1.3.0)\n",
      "Installing collected packages: sentence-transformers\n",
      "  Attempting uninstall: sentence-transformers\n",
      "    Found existing installation: sentence-transformers 4.1.0\n",
      "    Uninstalling sentence-transformers-4.1.0:\n",
      "      Successfully uninstalled sentence-transformers-4.1.0\n",
      "Successfully installed sentence-transformers-2.2.2\n",
      "Requirement already satisfied: InstructorEmbedding>=1.0.1 in ./venv/lib/python3.9/site-packages (1.0.1)\n",
      "Requirement already satisfied: langchain>=0.2.0 in ./venv/lib/python3.9/site-packages (0.3.24)\n",
      "Requirement already satisfied: langchain-core<1.0.0,>=0.3.55 in ./venv/lib/python3.9/site-packages (from langchain>=0.2.0) (0.3.56)\n",
      "Requirement already satisfied: langchain-text-splitters<1.0.0,>=0.3.8 in ./venv/lib/python3.9/site-packages (from langchain>=0.2.0) (0.3.8)\n",
      "Requirement already satisfied: langsmith<0.4,>=0.1.17 in ./venv/lib/python3.9/site-packages (from langchain>=0.2.0) (0.3.33)\n",
      "Requirement already satisfied: pydantic<3.0.0,>=2.7.4 in ./venv/lib/python3.9/site-packages (from langchain>=0.2.0) (2.11.3)\n",
      "Requirement already satisfied: SQLAlchemy<3,>=1.4 in ./venv/lib/python3.9/site-packages (from langchain>=0.2.0) (2.0.40)\n",
      "Requirement already satisfied: requests<3,>=2 in ./venv/lib/python3.9/site-packages (from langchain>=0.2.0) (2.32.3)\n",
      "Requirement already satisfied: PyYAML>=5.3 in ./venv/lib/python3.9/site-packages (from langchain>=0.2.0) (6.0.2)\n",
      "Requirement already satisfied: async-timeout<5.0.0,>=4.0.0 in ./venv/lib/python3.9/site-packages (from langchain>=0.2.0) (4.0.3)\n",
      "Requirement already satisfied: tenacity!=8.4.0,<10.0.0,>=8.1.0 in ./venv/lib/python3.9/site-packages (from langchain-core<1.0.0,>=0.3.55->langchain>=0.2.0) (9.1.2)\n",
      "Requirement already satisfied: jsonpatch<2.0,>=1.33 in ./venv/lib/python3.9/site-packages (from langchain-core<1.0.0,>=0.3.55->langchain>=0.2.0) (1.33)\n",
      "Collecting packaging<25,>=23.2 (from langchain-core<1.0.0,>=0.3.55->langchain>=0.2.0)\n",
      "  Using cached packaging-24.2-py3-none-any.whl.metadata (3.2 kB)\n",
      "Requirement already satisfied: typing-extensions>=4.7 in ./venv/lib/python3.9/site-packages (from langchain-core<1.0.0,>=0.3.55->langchain>=0.2.0) (4.13.2)\n",
      "Requirement already satisfied: httpx<1,>=0.23.0 in ./venv/lib/python3.9/site-packages (from langsmith<0.4,>=0.1.17->langchain>=0.2.0) (0.28.1)\n",
      "Requirement already satisfied: orjson<4.0.0,>=3.9.14 in ./venv/lib/python3.9/site-packages (from langsmith<0.4,>=0.1.17->langchain>=0.2.0) (3.10.16)\n",
      "Requirement already satisfied: requests-toolbelt<2.0.0,>=1.0.0 in ./venv/lib/python3.9/site-packages (from langsmith<0.4,>=0.1.17->langchain>=0.2.0) (1.0.0)\n",
      "Requirement already satisfied: zstandard<0.24.0,>=0.23.0 in ./venv/lib/python3.9/site-packages (from langsmith<0.4,>=0.1.17->langchain>=0.2.0) (0.23.0)\n",
      "Requirement already satisfied: annotated-types>=0.6.0 in ./venv/lib/python3.9/site-packages (from pydantic<3.0.0,>=2.7.4->langchain>=0.2.0) (0.7.0)\n",
      "Requirement already satisfied: pydantic-core==2.33.1 in ./venv/lib/python3.9/site-packages (from pydantic<3.0.0,>=2.7.4->langchain>=0.2.0) (2.33.1)\n",
      "Requirement already satisfied: typing-inspection>=0.4.0 in ./venv/lib/python3.9/site-packages (from pydantic<3.0.0,>=2.7.4->langchain>=0.2.0) (0.4.0)\n",
      "Requirement already satisfied: charset-normalizer<4,>=2 in ./venv/lib/python3.9/site-packages (from requests<3,>=2->langchain>=0.2.0) (3.4.1)\n",
      "Requirement already satisfied: idna<4,>=2.5 in ./venv/lib/python3.9/site-packages (from requests<3,>=2->langchain>=0.2.0) (3.10)\n",
      "Requirement already satisfied: urllib3<3,>=1.21.1 in ./venv/lib/python3.9/site-packages (from requests<3,>=2->langchain>=0.2.0) (2.4.0)\n",
      "Requirement already satisfied: certifi>=2017.4.17 in ./venv/lib/python3.9/site-packages (from requests<3,>=2->langchain>=0.2.0) (2025.4.26)\n",
      "Requirement already satisfied: greenlet>=1 in ./venv/lib/python3.9/site-packages (from SQLAlchemy<3,>=1.4->langchain>=0.2.0) (3.2.1)\n",
      "Requirement already satisfied: anyio in ./venv/lib/python3.9/site-packages (from httpx<1,>=0.23.0->langsmith<0.4,>=0.1.17->langchain>=0.2.0) (4.9.0)\n",
      "Requirement already satisfied: httpcore==1.* in ./venv/lib/python3.9/site-packages (from httpx<1,>=0.23.0->langsmith<0.4,>=0.1.17->langchain>=0.2.0) (1.0.8)\n",
      "Requirement already satisfied: h11<0.15,>=0.13 in ./venv/lib/python3.9/site-packages (from httpcore==1.*->httpx<1,>=0.23.0->langsmith<0.4,>=0.1.17->langchain>=0.2.0) (0.14.0)\n",
      "Requirement already satisfied: jsonpointer>=1.9 in ./venv/lib/python3.9/site-packages (from jsonpatch<2.0,>=1.33->langchain-core<1.0.0,>=0.3.55->langchain>=0.2.0) (3.0.0)\n",
      "Requirement already satisfied: exceptiongroup>=1.0.2 in ./venv/lib/python3.9/site-packages (from anyio->httpx<1,>=0.23.0->langsmith<0.4,>=0.1.17->langchain>=0.2.0) (1.2.2)\n",
      "Requirement already satisfied: sniffio>=1.1 in ./venv/lib/python3.9/site-packages (from anyio->httpx<1,>=0.23.0->langsmith<0.4,>=0.1.17->langchain>=0.2.0) (1.3.1)\n",
      "Using cached packaging-24.2-py3-none-any.whl (65 kB)\n",
      "Installing collected packages: packaging\n",
      "  Attempting uninstall: packaging\n",
      "    Found existing installation: packaging 25.0\n",
      "    Uninstalling packaging-25.0:\n",
      "      Successfully uninstalled packaging-25.0\n",
      "Successfully installed packaging-24.2\n",
      "Requirement already satisfied: langchain-community>=0.0.11 in ./venv/lib/python3.9/site-packages (0.3.22)\n",
      "Requirement already satisfied: langchain-core<1.0.0,>=0.3.55 in ./venv/lib/python3.9/site-packages (from langchain-community>=0.0.11) (0.3.56)\n",
      "Requirement already satisfied: langchain<1.0.0,>=0.3.24 in ./venv/lib/python3.9/site-packages (from langchain-community>=0.0.11) (0.3.24)\n",
      "Requirement already satisfied: SQLAlchemy<3,>=1.4 in ./venv/lib/python3.9/site-packages (from langchain-community>=0.0.11) (2.0.40)\n",
      "Requirement already satisfied: requests<3,>=2 in ./venv/lib/python3.9/site-packages (from langchain-community>=0.0.11) (2.32.3)\n",
      "Requirement already satisfied: PyYAML>=5.3 in ./venv/lib/python3.9/site-packages (from langchain-community>=0.0.11) (6.0.2)\n",
      "Requirement already satisfied: aiohttp<4.0.0,>=3.8.3 in ./venv/lib/python3.9/site-packages (from langchain-community>=0.0.11) (3.11.18)\n",
      "Requirement already satisfied: tenacity!=8.4.0,<10,>=8.1.0 in ./venv/lib/python3.9/site-packages (from langchain-community>=0.0.11) (9.1.2)\n",
      "Requirement already satisfied: dataclasses-json<0.7,>=0.5.7 in ./venv/lib/python3.9/site-packages (from langchain-community>=0.0.11) (0.6.7)\n",
      "Requirement already satisfied: pydantic-settings<3.0.0,>=2.4.0 in ./venv/lib/python3.9/site-packages (from langchain-community>=0.0.11) (2.9.1)\n",
      "Requirement already satisfied: langsmith<0.4,>=0.1.125 in ./venv/lib/python3.9/site-packages (from langchain-community>=0.0.11) (0.3.33)\n",
      "Requirement already satisfied: httpx-sse<1.0.0,>=0.4.0 in ./venv/lib/python3.9/site-packages (from langchain-community>=0.0.11) (0.4.0)\n",
      "Requirement already satisfied: numpy>=1.26.2 in ./venv/lib/python3.9/site-packages (from langchain-community>=0.0.11) (1.26.4)\n",
      "Requirement already satisfied: aiohappyeyeballs>=2.3.0 in ./venv/lib/python3.9/site-packages (from aiohttp<4.0.0,>=3.8.3->langchain-community>=0.0.11) (2.6.1)\n",
      "Requirement already satisfied: aiosignal>=1.1.2 in ./venv/lib/python3.9/site-packages (from aiohttp<4.0.0,>=3.8.3->langchain-community>=0.0.11) (1.3.2)\n",
      "Requirement already satisfied: async-timeout<6.0,>=4.0 in ./venv/lib/python3.9/site-packages (from aiohttp<4.0.0,>=3.8.3->langchain-community>=0.0.11) (4.0.3)\n",
      "Requirement already satisfied: attrs>=17.3.0 in ./venv/lib/python3.9/site-packages (from aiohttp<4.0.0,>=3.8.3->langchain-community>=0.0.11) (25.3.0)\n",
      "Requirement already satisfied: frozenlist>=1.1.1 in ./venv/lib/python3.9/site-packages (from aiohttp<4.0.0,>=3.8.3->langchain-community>=0.0.11) (1.6.0)\n",
      "Requirement already satisfied: multidict<7.0,>=4.5 in ./venv/lib/python3.9/site-packages (from aiohttp<4.0.0,>=3.8.3->langchain-community>=0.0.11) (6.4.3)\n",
      "Requirement already satisfied: propcache>=0.2.0 in ./venv/lib/python3.9/site-packages (from aiohttp<4.0.0,>=3.8.3->langchain-community>=0.0.11) (0.3.1)\n",
      "Requirement already satisfied: yarl<2.0,>=1.17.0 in ./venv/lib/python3.9/site-packages (from aiohttp<4.0.0,>=3.8.3->langchain-community>=0.0.11) (1.20.0)\n",
      "Requirement already satisfied: marshmallow<4.0.0,>=3.18.0 in ./venv/lib/python3.9/site-packages (from dataclasses-json<0.7,>=0.5.7->langchain-community>=0.0.11) (3.26.1)\n",
      "Requirement already satisfied: typing-inspect<1,>=0.4.0 in ./venv/lib/python3.9/site-packages (from dataclasses-json<0.7,>=0.5.7->langchain-community>=0.0.11) (0.9.0)\n",
      "Requirement already satisfied: langchain-text-splitters<1.0.0,>=0.3.8 in ./venv/lib/python3.9/site-packages (from langchain<1.0.0,>=0.3.24->langchain-community>=0.0.11) (0.3.8)\n",
      "Requirement already satisfied: pydantic<3.0.0,>=2.7.4 in ./venv/lib/python3.9/site-packages (from langchain<1.0.0,>=0.3.24->langchain-community>=0.0.11) (2.11.3)\n",
      "Requirement already satisfied: jsonpatch<2.0,>=1.33 in ./venv/lib/python3.9/site-packages (from langchain-core<1.0.0,>=0.3.55->langchain-community>=0.0.11) (1.33)\n",
      "Requirement already satisfied: packaging<25,>=23.2 in ./venv/lib/python3.9/site-packages (from langchain-core<1.0.0,>=0.3.55->langchain-community>=0.0.11) (24.2)\n",
      "Requirement already satisfied: typing-extensions>=4.7 in ./venv/lib/python3.9/site-packages (from langchain-core<1.0.0,>=0.3.55->langchain-community>=0.0.11) (4.13.2)\n",
      "Requirement already satisfied: httpx<1,>=0.23.0 in ./venv/lib/python3.9/site-packages (from langsmith<0.4,>=0.1.125->langchain-community>=0.0.11) (0.28.1)\n",
      "Requirement already satisfied: orjson<4.0.0,>=3.9.14 in ./venv/lib/python3.9/site-packages (from langsmith<0.4,>=0.1.125->langchain-community>=0.0.11) (3.10.16)\n",
      "Requirement already satisfied: requests-toolbelt<2.0.0,>=1.0.0 in ./venv/lib/python3.9/site-packages (from langsmith<0.4,>=0.1.125->langchain-community>=0.0.11) (1.0.0)\n",
      "Requirement already satisfied: zstandard<0.24.0,>=0.23.0 in ./venv/lib/python3.9/site-packages (from langsmith<0.4,>=0.1.125->langchain-community>=0.0.11) (0.23.0)\n",
      "Requirement already satisfied: python-dotenv>=0.21.0 in ./venv/lib/python3.9/site-packages (from pydantic-settings<3.0.0,>=2.4.0->langchain-community>=0.0.11) (1.1.0)\n",
      "Requirement already satisfied: typing-inspection>=0.4.0 in ./venv/lib/python3.9/site-packages (from pydantic-settings<3.0.0,>=2.4.0->langchain-community>=0.0.11) (0.4.0)\n",
      "Requirement already satisfied: charset-normalizer<4,>=2 in ./venv/lib/python3.9/site-packages (from requests<3,>=2->langchain-community>=0.0.11) (3.4.1)\n",
      "Requirement already satisfied: idna<4,>=2.5 in ./venv/lib/python3.9/site-packages (from requests<3,>=2->langchain-community>=0.0.11) (3.10)\n",
      "Requirement already satisfied: urllib3<3,>=1.21.1 in ./venv/lib/python3.9/site-packages (from requests<3,>=2->langchain-community>=0.0.11) (2.4.0)\n",
      "Requirement already satisfied: certifi>=2017.4.17 in ./venv/lib/python3.9/site-packages (from requests<3,>=2->langchain-community>=0.0.11) (2025.4.26)\n",
      "Requirement already satisfied: greenlet>=1 in ./venv/lib/python3.9/site-packages (from SQLAlchemy<3,>=1.4->langchain-community>=0.0.11) (3.2.1)\n",
      "Requirement already satisfied: anyio in ./venv/lib/python3.9/site-packages (from httpx<1,>=0.23.0->langsmith<0.4,>=0.1.125->langchain-community>=0.0.11) (4.9.0)\n",
      "Requirement already satisfied: httpcore==1.* in ./venv/lib/python3.9/site-packages (from httpx<1,>=0.23.0->langsmith<0.4,>=0.1.125->langchain-community>=0.0.11) (1.0.8)\n",
      "Requirement already satisfied: h11<0.15,>=0.13 in ./venv/lib/python3.9/site-packages (from httpcore==1.*->httpx<1,>=0.23.0->langsmith<0.4,>=0.1.125->langchain-community>=0.0.11) (0.14.0)\n",
      "Requirement already satisfied: jsonpointer>=1.9 in ./venv/lib/python3.9/site-packages (from jsonpatch<2.0,>=1.33->langchain-core<1.0.0,>=0.3.55->langchain-community>=0.0.11) (3.0.0)\n",
      "Requirement already satisfied: annotated-types>=0.6.0 in ./venv/lib/python3.9/site-packages (from pydantic<3.0.0,>=2.7.4->langchain<1.0.0,>=0.3.24->langchain-community>=0.0.11) (0.7.0)\n",
      "Requirement already satisfied: pydantic-core==2.33.1 in ./venv/lib/python3.9/site-packages (from pydantic<3.0.0,>=2.7.4->langchain<1.0.0,>=0.3.24->langchain-community>=0.0.11) (2.33.1)\n",
      "Requirement already satisfied: mypy-extensions>=0.3.0 in ./venv/lib/python3.9/site-packages (from typing-inspect<1,>=0.4.0->dataclasses-json<0.7,>=0.5.7->langchain-community>=0.0.11) (1.1.0)\n",
      "Requirement already satisfied: exceptiongroup>=1.0.2 in ./venv/lib/python3.9/site-packages (from anyio->httpx<1,>=0.23.0->langsmith<0.4,>=0.1.125->langchain-community>=0.0.11) (1.2.2)\n",
      "Requirement already satisfied: sniffio>=1.1 in ./venv/lib/python3.9/site-packages (from anyio->httpx<1,>=0.23.0->langsmith<0.4,>=0.1.125->langchain-community>=0.0.11) (1.3.1)\n",
      "Requirement already satisfied: torch>=2.0 in ./venv/lib/python3.9/site-packages (2.2.2)\n",
      "Requirement already satisfied: filelock in ./venv/lib/python3.9/site-packages (from torch>=2.0) (3.18.0)\n",
      "Requirement already satisfied: typing-extensions>=4.8.0 in ./venv/lib/python3.9/site-packages (from torch>=2.0) (4.13.2)\n",
      "Requirement already satisfied: sympy in ./venv/lib/python3.9/site-packages (from torch>=2.0) (1.13.3)\n",
      "Requirement already satisfied: networkx in ./venv/lib/python3.9/site-packages (from torch>=2.0) (3.2.1)\n",
      "Requirement already satisfied: jinja2 in ./venv/lib/python3.9/site-packages (from torch>=2.0) (3.1.6)\n",
      "Requirement already satisfied: fsspec in ./venv/lib/python3.9/site-packages (from torch>=2.0) (2025.3.2)\n",
      "Requirement already satisfied: MarkupSafe>=2.0 in ./venv/lib/python3.9/site-packages (from jinja2->torch>=2.0) (3.0.2)\n",
      "Requirement already satisfied: mpmath<1.4,>=1.1.0 in ./venv/lib/python3.9/site-packages (from sympy->torch>=2.0) (1.3.0)\n",
      "Requirement already satisfied: sentence-transformers==2.2.2 in ./venv/lib/python3.9/site-packages (2.2.2)\n",
      "Requirement already satisfied: transformers<5.0.0,>=4.6.0 in ./venv/lib/python3.9/site-packages (from sentence-transformers==2.2.2) (4.51.3)\n",
      "Requirement already satisfied: tqdm in ./venv/lib/python3.9/site-packages (from sentence-transformers==2.2.2) (4.67.1)\n",
      "Requirement already satisfied: torch>=1.6.0 in ./venv/lib/python3.9/site-packages (from sentence-transformers==2.2.2) (2.2.2)\n",
      "Requirement already satisfied: torchvision in ./venv/lib/python3.9/site-packages (from sentence-transformers==2.2.2) (0.17.2)\n",
      "Requirement already satisfied: numpy in ./venv/lib/python3.9/site-packages (from sentence-transformers==2.2.2) (1.26.4)\n",
      "Requirement already satisfied: scikit-learn in ./venv/lib/python3.9/site-packages (from sentence-transformers==2.2.2) (1.6.1)\n",
      "Requirement already satisfied: scipy in ./venv/lib/python3.9/site-packages (from sentence-transformers==2.2.2) (1.13.1)\n",
      "Requirement already satisfied: nltk in ./venv/lib/python3.9/site-packages (from sentence-transformers==2.2.2) (3.9.1)\n",
      "Requirement already satisfied: sentencepiece in ./venv/lib/python3.9/site-packages (from sentence-transformers==2.2.2) (0.2.0)\n",
      "Requirement already satisfied: huggingface-hub>=0.4.0 in ./venv/lib/python3.9/site-packages (from sentence-transformers==2.2.2) (0.30.2)\n",
      "Requirement already satisfied: filelock in ./venv/lib/python3.9/site-packages (from huggingface-hub>=0.4.0->sentence-transformers==2.2.2) (3.18.0)\n",
      "Requirement already satisfied: fsspec>=2023.5.0 in ./venv/lib/python3.9/site-packages (from huggingface-hub>=0.4.0->sentence-transformers==2.2.2) (2025.3.2)\n",
      "Requirement already satisfied: packaging>=20.9 in ./venv/lib/python3.9/site-packages (from huggingface-hub>=0.4.0->sentence-transformers==2.2.2) (24.2)\n",
      "Requirement already satisfied: pyyaml>=5.1 in ./venv/lib/python3.9/site-packages (from huggingface-hub>=0.4.0->sentence-transformers==2.2.2) (6.0.2)\n",
      "Requirement already satisfied: requests in ./venv/lib/python3.9/site-packages (from huggingface-hub>=0.4.0->sentence-transformers==2.2.2) (2.32.3)\n",
      "Requirement already satisfied: typing-extensions>=3.7.4.3 in ./venv/lib/python3.9/site-packages (from huggingface-hub>=0.4.0->sentence-transformers==2.2.2) (4.13.2)\n",
      "Requirement already satisfied: sympy in ./venv/lib/python3.9/site-packages (from torch>=1.6.0->sentence-transformers==2.2.2) (1.13.3)\n",
      "Requirement already satisfied: networkx in ./venv/lib/python3.9/site-packages (from torch>=1.6.0->sentence-transformers==2.2.2) (3.2.1)\n",
      "Requirement already satisfied: jinja2 in ./venv/lib/python3.9/site-packages (from torch>=1.6.0->sentence-transformers==2.2.2) (3.1.6)\n",
      "Requirement already satisfied: regex!=2019.12.17 in ./venv/lib/python3.9/site-packages (from transformers<5.0.0,>=4.6.0->sentence-transformers==2.2.2) (2024.11.6)\n",
      "Requirement already satisfied: tokenizers<0.22,>=0.21 in ./venv/lib/python3.9/site-packages (from transformers<5.0.0,>=4.6.0->sentence-transformers==2.2.2) (0.21.1)\n",
      "Requirement already satisfied: safetensors>=0.4.3 in ./venv/lib/python3.9/site-packages (from transformers<5.0.0,>=4.6.0->sentence-transformers==2.2.2) (0.5.3)\n",
      "Requirement already satisfied: click in ./venv/lib/python3.9/site-packages (from nltk->sentence-transformers==2.2.2) (8.1.8)\n",
      "Requirement already satisfied: joblib in ./venv/lib/python3.9/site-packages (from nltk->sentence-transformers==2.2.2) (1.4.2)\n",
      "Requirement already satisfied: threadpoolctl>=3.1.0 in ./venv/lib/python3.9/site-packages (from scikit-learn->sentence-transformers==2.2.2) (3.6.0)\n",
      "Requirement already satisfied: pillow!=8.3.*,>=5.3.0 in ./venv/lib/python3.9/site-packages (from torchvision->sentence-transformers==2.2.2) (11.2.1)\n",
      "Requirement already satisfied: MarkupSafe>=2.0 in ./venv/lib/python3.9/site-packages (from jinja2->torch>=1.6.0->sentence-transformers==2.2.2) (3.0.2)\n",
      "Requirement already satisfied: charset-normalizer<4,>=2 in ./venv/lib/python3.9/site-packages (from requests->huggingface-hub>=0.4.0->sentence-transformers==2.2.2) (3.4.1)\n",
      "Requirement already satisfied: idna<4,>=2.5 in ./venv/lib/python3.9/site-packages (from requests->huggingface-hub>=0.4.0->sentence-transformers==2.2.2) (3.10)\n",
      "Requirement already satisfied: urllib3<3,>=1.21.1 in ./venv/lib/python3.9/site-packages (from requests->huggingface-hub>=0.4.0->sentence-transformers==2.2.2) (2.4.0)\n",
      "Requirement already satisfied: certifi>=2017.4.17 in ./venv/lib/python3.9/site-packages (from requests->huggingface-hub>=0.4.0->sentence-transformers==2.2.2) (2025.4.26)\n",
      "Requirement already satisfied: mpmath<1.4,>=1.1.0 in ./venv/lib/python3.9/site-packages (from sympy->torch>=1.6.0->sentence-transformers==2.2.2) (1.3.0)\n",
      "Requirement already satisfied: InstructorEmbedding>=1.0.1 in ./venv/lib/python3.9/site-packages (1.0.1)\n",
      "Requirement already satisfied: sentence-transformers in ./venv/lib/python3.9/site-packages (2.2.2)\n",
      "Requirement already satisfied: transformers<5.0.0,>=4.6.0 in ./venv/lib/python3.9/site-packages (from sentence-transformers) (4.51.3)\n",
      "Requirement already satisfied: tqdm in ./venv/lib/python3.9/site-packages (from sentence-transformers) (4.67.1)\n",
      "Requirement already satisfied: torch>=1.6.0 in ./venv/lib/python3.9/site-packages (from sentence-transformers) (2.2.2)\n",
      "Requirement already satisfied: torchvision in ./venv/lib/python3.9/site-packages (from sentence-transformers) (0.17.2)\n",
      "Requirement already satisfied: numpy in ./venv/lib/python3.9/site-packages (from sentence-transformers) (1.26.4)\n",
      "Requirement already satisfied: scikit-learn in ./venv/lib/python3.9/site-packages (from sentence-transformers) (1.6.1)\n",
      "Requirement already satisfied: scipy in ./venv/lib/python3.9/site-packages (from sentence-transformers) (1.13.1)\n",
      "Requirement already satisfied: nltk in ./venv/lib/python3.9/site-packages (from sentence-transformers) (3.9.1)\n",
      "Requirement already satisfied: sentencepiece in ./venv/lib/python3.9/site-packages (from sentence-transformers) (0.2.0)\n",
      "Requirement already satisfied: huggingface-hub>=0.4.0 in ./venv/lib/python3.9/site-packages (from sentence-transformers) (0.30.2)\n",
      "Requirement already satisfied: filelock in ./venv/lib/python3.9/site-packages (from huggingface-hub>=0.4.0->sentence-transformers) (3.18.0)\n",
      "Requirement already satisfied: fsspec>=2023.5.0 in ./venv/lib/python3.9/site-packages (from huggingface-hub>=0.4.0->sentence-transformers) (2025.3.2)\n",
      "Requirement already satisfied: packaging>=20.9 in ./venv/lib/python3.9/site-packages (from huggingface-hub>=0.4.0->sentence-transformers) (24.2)\n",
      "Requirement already satisfied: pyyaml>=5.1 in ./venv/lib/python3.9/site-packages (from huggingface-hub>=0.4.0->sentence-transformers) (6.0.2)\n",
      "Requirement already satisfied: requests in ./venv/lib/python3.9/site-packages (from huggingface-hub>=0.4.0->sentence-transformers) (2.32.3)\n",
      "Requirement already satisfied: typing-extensions>=3.7.4.3 in ./venv/lib/python3.9/site-packages (from huggingface-hub>=0.4.0->sentence-transformers) (4.13.2)\n",
      "Requirement already satisfied: sympy in ./venv/lib/python3.9/site-packages (from torch>=1.6.0->sentence-transformers) (1.13.3)\n",
      "Requirement already satisfied: networkx in ./venv/lib/python3.9/site-packages (from torch>=1.6.0->sentence-transformers) (3.2.1)\n",
      "Requirement already satisfied: jinja2 in ./venv/lib/python3.9/site-packages (from torch>=1.6.0->sentence-transformers) (3.1.6)\n",
      "Requirement already satisfied: regex!=2019.12.17 in ./venv/lib/python3.9/site-packages (from transformers<5.0.0,>=4.6.0->sentence-transformers) (2024.11.6)\n",
      "Requirement already satisfied: tokenizers<0.22,>=0.21 in ./venv/lib/python3.9/site-packages (from transformers<5.0.0,>=4.6.0->sentence-transformers) (0.21.1)\n",
      "Requirement already satisfied: safetensors>=0.4.3 in ./venv/lib/python3.9/site-packages (from transformers<5.0.0,>=4.6.0->sentence-transformers) (0.5.3)\n",
      "Requirement already satisfied: click in ./venv/lib/python3.9/site-packages (from nltk->sentence-transformers) (8.1.8)\n",
      "Requirement already satisfied: joblib in ./venv/lib/python3.9/site-packages (from nltk->sentence-transformers) (1.4.2)\n",
      "Requirement already satisfied: threadpoolctl>=3.1.0 in ./venv/lib/python3.9/site-packages (from scikit-learn->sentence-transformers) (3.6.0)\n",
      "Requirement already satisfied: pillow!=8.3.*,>=5.3.0 in ./venv/lib/python3.9/site-packages (from torchvision->sentence-transformers) (11.2.1)\n",
      "Requirement already satisfied: MarkupSafe>=2.0 in ./venv/lib/python3.9/site-packages (from jinja2->torch>=1.6.0->sentence-transformers) (3.0.2)\n",
      "Requirement already satisfied: charset-normalizer<4,>=2 in ./venv/lib/python3.9/site-packages (from requests->huggingface-hub>=0.4.0->sentence-transformers) (3.4.1)\n",
      "Requirement already satisfied: idna<4,>=2.5 in ./venv/lib/python3.9/site-packages (from requests->huggingface-hub>=0.4.0->sentence-transformers) (3.10)\n",
      "Requirement already satisfied: urllib3<3,>=1.21.1 in ./venv/lib/python3.9/site-packages (from requests->huggingface-hub>=0.4.0->sentence-transformers) (2.4.0)\n",
      "Requirement already satisfied: certifi>=2017.4.17 in ./venv/lib/python3.9/site-packages (from requests->huggingface-hub>=0.4.0->sentence-transformers) (2025.4.26)\n",
      "Requirement already satisfied: mpmath<1.4,>=1.1.0 in ./venv/lib/python3.9/site-packages (from sympy->torch>=1.6.0->sentence-transformers) (1.3.0)\n"
     ]
    }
   ],
   "source": [
    "!pip install \"numpy<2\"\n",
    "!pip install \"sentence-transformers==2.2.2\"\n",
    "!pip install \"InstructorEmbedding>=1.0.1\"\n",
    "!pip install \"langchain>=0.2.0\"\n",
    "!pip install \"langchain-community>=0.0.11\"\n",
    "!pip install \"torch>=2.0\"\n",
    "!pip install -U \"sentence-transformers==2.2.2\"\n",
    "!pip install -U \"InstructorEmbedding>=1.0.1\"\n",
    "!pip install sentence-transformers\n",
    "\n"
   ]
  },
  {
   "cell_type": "code",
   "execution_count": 2,
   "metadata": {},
   "outputs": [],
   "source": [
    "import pandas as pd \n",
    "import os\n",
    "from dotenv import load_dotenv\n",
    "import matplotlib.pyplot as plt \n",
    "import seaborn as sns\n",
    "from langchain_google_genai import ChatGoogleGenerativeAI \n",
    "from langchain.prompts import PromptTemplate\n",
    "\n",
    "import re"
   ]
  },
  {
   "cell_type": "code",
   "execution_count": 3,
   "metadata": {},
   "outputs": [
    {
     "name": "stderr",
     "output_type": "stream",
     "text": [
      "/Users/phulusoravhuhali/Documents/phuluso_all/phuluso_data_science/Data_science/mine/venv/lib/python3.9/site-packages/tqdm/auto.py:21: TqdmWarning: IProgress not found. Please update jupyter and ipywidgets. See https://ipywidgets.readthedocs.io/en/stable/user_install.html\n",
      "  from .autonotebook import tqdm as notebook_tqdm\n"
     ]
    }
   ],
   "source": [
    "import pprint\n",
    "import google.generativeai as palm"
   ]
  },
  {
   "cell_type": "code",
   "execution_count": 4,
   "metadata": {},
   "outputs": [
    {
     "data": {
      "text/plain": [
       "True"
      ]
     },
     "execution_count": 4,
     "metadata": {},
     "output_type": "execute_result"
    }
   ],
   "source": [
    "\n",
    "load_dotenv()"
   ]
  },
  {
   "cell_type": "code",
   "execution_count": 5,
   "metadata": {},
   "outputs": [],
   "source": [
    "api_key = os.environ.get(\"api_key\")\n"
   ]
  },
  {
   "cell_type": "code",
   "execution_count": 6,
   "metadata": {},
   "outputs": [],
   "source": [
    "palm.configure(api_key=api_key)"
   ]
  },
  {
   "cell_type": "code",
   "execution_count": 7,
   "metadata": {},
   "outputs": [
    {
     "name": "stdout",
     "output_type": "stream",
     "text": [
      "models/text-bison-001\n"
     ]
    }
   ],
   "source": [
    "models = [m for m in palm.list_models() if 'generateText' in m.supported_generation_methods]\n",
    "model = models[0].name\n",
    "print(model)"
   ]
  },
  {
   "cell_type": "code",
   "execution_count": 8,
   "metadata": {},
   "outputs": [],
   "source": [
    "\n",
    "llm = ChatGoogleGenerativeAI(\n",
    "    model=\"gemini-1.5-flash\",\n",
    "    google_api_key=api_key,\n",
    "    temperature=0.9,\n",
    "\n",
    ")\n"
   ]
  },
  {
   "cell_type": "code",
   "execution_count": 9,
   "metadata": {},
   "outputs": [
    {
     "name": "stdout",
     "output_type": "stream",
     "text": [
      "Yes, I can.  Please provide the DataFrame.  To make it easy for me to understand and give you the best query, please also tell me:\n",
      "\n",
      "* **What is the DataFrame about?** (e.g., customer orders, sensor readings, website traffic)  A brief description helps me understand the context.\n",
      "* **What information are you trying to extract?** (e.g., total sales for a specific month, average sensor readings, top 10 website pages)  This is the most important part. Be as specific as possible.\n",
      "* **How should the data be presented?** (e.g., aggregated values, a list of specific rows, a table)\n",
      "* **What format is your DataFrame in?** (e.g.,  a list of dictionaries, a Pandas DataFrame representation in Python, CSV data, etc).  If it's a Pandas DataFrame, please include the column names. If it's another format, please specify the format and structure clearly.\n",
      "\n",
      "\n",
      "The more details you provide, the better I can assist you.\n"
     ]
    }
   ],
   "source": [
    "\n",
    "prompt = \"can i give you a df and you give me a query \"\n",
    "response = llm.invoke(prompt)\n",
    "print(response.content) \n",
    "\n"
   ]
  },
  {
   "cell_type": "code",
   "execution_count": 10,
   "metadata": {},
   "outputs": [],
   "source": [
    "dc  = pd.read_csv(\"customer_support_tickets.csv\")\n",
    "dc['extracted_question'] = dc['Ticket Description'].str.extract(r'(\\?.*$)')\n",
    "dc['cleaned_question'] = dc['extracted_question'].str.lower().str.strip()\n",
    "dc = dc.dropna(subset=['cleaned_question'])\n"
   ]
  },
  {
   "cell_type": "code",
   "execution_count": 11,
   "metadata": {},
   "outputs": [],
   "source": [
    "text = \" \".join(dc['extracted_question'] .astype(str).tolist())\n",
    "text = re.sub(r\"[^A-Za-z\\s]\", \"\", text)\n",
    "text = text.lower()\n"
   ]
  },
  {
   "cell_type": "code",
   "execution_count": 12,
   "metadata": {},
   "outputs": [
    {
     "name": "stdout",
     "output_type": "stream",
     "text": [
      "Here's a breakdown of the customer feedback, categorized for easier analysis.  I've also included 5 frequently asked questions based on the data, with simple answers.\n",
      "\n",
      "\n",
      "**Categorized Customer Feedback:**\n",
      "\n",
      "* **Charging Issues:** The original charger isn't charging the product properly.  This is mentioned repeatedly.\n",
      "\n",
      "* **Software/Firmware Problems:**  A recent firmware update caused issues for many users.  The problem is often intermittent, sometimes working fine, and other times malfunctioning unexpectedly.\n",
      "\n",
      "* **Functionality Issues:** Users can't find certain options or perform desired actions within the product.  Specific features or apps cause consistent problems.\n",
      "\n",
      "* **Error Messages:**  A recurring \"errormessage\" pops up on the product screen.\n",
      "\n",
      "* **Battery Life:**  Significant decrease in battery life reported.\n",
      "\n",
      "* **Security Concerns:**  Users are concerned about the security of their data and want assurance it's safe.\n",
      "\n",
      "* **Unresolved Customer Support:** Many users report contacting customer support multiple times without resolution.\n",
      "\n",
      "\n",
      "**5 Frequently Asked Questions (FAQs) and Simple Answers:**\n",
      "\n",
      "1. **Q: My product isn't charging properly. What should I do?**\n",
      "\n",
      "   **A:** Try a different charger (if possible) and contact customer support.\n",
      "\n",
      "2. **Q: I recently updated the firmware, and now my product is malfunctioning.  Is this related?**\n",
      "\n",
      "   **A:** It's possible. Contact customer support and provide details of the issue and when it started.\n",
      "\n",
      "3. **Q: I can't find the option to [perform action X]. What should I do?**\n",
      "\n",
      "   **A:** Consult the user manual or contact customer support for guidance.\n",
      "\n",
      "4. **Q:  I'm seeing an \"errormessage\" on my screen. What does it mean?**\n",
      "\n",
      "   **A:** Contact customer support; they can diagnose the error code.\n",
      "\n",
      "5. **Q: My product's battery life has drastically decreased. What's wrong?**\n",
      "\n",
      "   **A:** Contact customer support. It could be a software issue, a hardware problem, or both.\n",
      "\n",
      "\n",
      "**Note:** This analysis highlights common themes.  Individual customer issues require separate investigation and personalized solutions.  The sheer volume of similar complaints strongly suggests a need for software updates or other fixes from the product manufacturer.\n"
     ]
    }
   ],
   "source": [
    "prompt = f\"in a column called Ticket Description in {text} can you give me 5 most asked quesions just give me 1 to 5  simple answers, keep it simple  \"\n",
    "response = llm.invoke(prompt)\n",
    "print(response.content) "
   ]
  },
  {
   "cell_type": "markdown",
   "metadata": {},
   "source": [
    "# Using langchain"
   ]
  },
  {
   "cell_type": "code",
   "execution_count": 13,
   "metadata": {},
   "outputs": [],
   "source": [
    "from langchain.document_loaders.csv_loader import CSVLoader"
   ]
  },
  {
   "cell_type": "code",
   "execution_count": 14,
   "metadata": {},
   "outputs": [],
   "source": [
    "load = CSVLoader(file_path=\"customer_support_tickets.csv\",source_column=\"Ticket Description\")\n",
    "df  = load.load()"
   ]
  },
  {
   "cell_type": "markdown",
   "metadata": {},
   "source": [
    "### testing embedings "
   ]
  },
  {
   "cell_type": "markdown",
   "metadata": {},
   "source": [
    "pip install --upgrade --force-reinstall sentence-transformers huggingface-hub transformers"
   ]
  },
  {
   "cell_type": "code",
   "execution_count": 17,
   "metadata": {},
   "outputs": [
    {
     "name": "stderr",
     "output_type": "stream",
     "text": [
      "/var/folders/hv/m7d19hld69qb83g8n_7x10tc0000gn/T/ipykernel_6517/3572358615.py:3: LangChainDeprecationWarning: Default values for HuggingFaceEmbeddings.model_name were deprecated in LangChain 0.2.16 and will be removed in 0.4.0. Explicitly pass a model_name to the HuggingFaceEmbeddings constructor instead.\n",
      "  emb = HuggingFaceEmbeddings(\n",
      "Xet Storage is enabled for this repo, but the 'hf_xet' package is not installed. Falling back to regular HTTP download. For better performance, install the package with: `pip install huggingface_hub[hf_xet]` or `pip install hf_xet`\n"
     ]
    }
   ],
   "source": [
    "from langchain.embeddings import HuggingFaceEmbeddings\n",
    "# Initialize with a simple model like \"all-MiniLM-L6-v2\" (very popular for sentence embeddings)\n",
    "emb = HuggingFaceEmbeddings(\n",
    "    # model_name=\"sentence-transformers/all-MiniLM-L6-v2\"\n",
    ")\n",
    "\n",
    "w = emb.embed_query(\"what is today's date\")\n",
    "\n"
   ]
  },
  {
   "cell_type": "markdown",
   "metadata": {},
   "source": [
    "# creating a vector database"
   ]
  },
  {
   "cell_type": "code",
   "execution_count": 18,
   "metadata": {},
   "outputs": [],
   "source": [
    "from langchain.vectorstores import FAISS\n",
    "#create vector databases\n",
    "vdb = FAISS.from_documents(documents=df,embedding=emb)"
   ]
  },
  {
   "cell_type": "markdown",
   "metadata": {},
   "source": [
    "#### for things already in the database : finding similer questiong to the one you asked"
   ]
  },
  {
   "cell_type": "code",
   "execution_count": 19,
   "metadata": {},
   "outputs": [],
   "source": [
    "#retrieve vecot databases \n",
    "pull_vectore =vdb.as_retriever()"
   ]
  },
  {
   "cell_type": "code",
   "execution_count": 20,
   "metadata": {},
   "outputs": [
    {
     "name": "stderr",
     "output_type": "stream",
     "text": [
      "/var/folders/hv/m7d19hld69qb83g8n_7x10tc0000gn/T/ipykernel_6517/1491808610.py:1: LangChainDeprecationWarning: The method `BaseRetriever.get_relevant_documents` was deprecated in langchain-core 0.1.46 and will be removed in 1.0. Use :meth:`~invoke` instead.\n",
      "  questio = pull_vectore.get_relevant_documents(\"my charger is not working properly\")\n"
     ]
    },
    {
     "data": {
      "text/plain": [
       "Document(id='71b65672-139b-4614-871d-548a0b4f65ac', metadata={'source': \"I'm having an issue with the {product_purchased}. Please assist.\\n\\nThis one is a little harder to understand but that's just how I am, so I'll leave it at that.\\n\\nAs the picture above shows I'm using the original charger that came with my {product_purchased}, but it's not charging properly.\", 'row': 2665}, page_content=\"Ticket ID: 2666\\nCustomer Name: Lori Smith\\nCustomer Email: fischermark@example.org\\nCustomer Age: 56\\nCustomer Gender: Other\\nProduct Purchased: Sony PlayStation\\nDate of Purchase: 2021-05-23\\nTicket Type: Cancellation request\\nTicket Subject: Product compatibility\\nTicket Description: I'm having an issue with the {product_purchased}. Please assist.\\n\\nThis one is a little harder to understand but that's just how I am, so I'll leave it at that.\\n\\nAs the picture above shows I'm using the original charger that came with my {product_purchased}, but it's not charging properly.\\nTicket Status: Pending Customer Response\\nResolution: \\nTicket Priority: Medium\\nTicket Channel: Email\\nFirst Response Time: 2023-06-01 14:35:09\\nTime to Resolution: \\nCustomer Satisfaction Rating: \")"
      ]
     },
     "execution_count": 20,
     "metadata": {},
     "output_type": "execute_result"
    }
   ],
   "source": [
    "questio = pull_vectore.get_relevant_documents(\"my charger is not working properly\")\n",
    "questio[0]"
   ]
  },
  {
   "cell_type": "markdown",
   "metadata": {},
   "source": [
    "## Asking the AI from the data in the DB"
   ]
  },
  {
   "cell_type": "code",
   "execution_count": 21,
   "metadata": {},
   "outputs": [],
   "source": [
    "prompt_temp = \"\"\"\n",
    "Answer the question based on the context and Question, dont come up with your own answers , \n",
    "say i dont know if there is no answer in the here.\n",
    "context : {context}\n",
    "QUESTION : {question}\n",
    "\"\"\"\n",
    "promptt = PromptTemplate(\n",
    "    template=prompt_temp,input_variables=['context','question']\n",
    ")"
   ]
  },
  {
   "cell_type": "code",
   "execution_count": 22,
   "metadata": {},
   "outputs": [],
   "source": [
    "from langchain.chains import RetrievalQA\n",
    "\n",
    "chain  = RetrievalQA.from_chain_type(llm = llm,\n",
    "    retriever =  pull_vectore,\n",
    "    input_key = \"query\",\n",
    "    return_source_documents=True,\n",
    "    chain_type_kwargs = {'prompt' :promptt}\n",
    "    )"
   ]
  },
  {
   "cell_type": "code",
   "execution_count": 23,
   "metadata": {},
   "outputs": [
    {
     "name": "stderr",
     "output_type": "stream",
     "text": [
      "/var/folders/hv/m7d19hld69qb83g8n_7x10tc0000gn/T/ipykernel_6517/3015519548.py:1: LangChainDeprecationWarning: The method `Chain.__call__` was deprecated in langchain 0.1.0 and will be removed in 1.0. Use :meth:`~invoke` instead.\n",
      "  xxx = chain(\"how munch money did you make last year \")\n"
     ]
    },
    {
     "data": {
      "text/plain": [
       "\"I don't know.  The provided text does not contain information about anyone's income.\""
      ]
     },
     "execution_count": 23,
     "metadata": {},
     "output_type": "execute_result"
    }
   ],
   "source": [
    "xxx = chain(\"how munch money did you make last year \")\n",
    "xxx.get('result')"
   ]
  },
  {
   "cell_type": "code",
   "execution_count": 24,
   "metadata": {},
   "outputs": [
    {
     "data": {
      "text/plain": [
       "'No'"
      ]
     },
     "execution_count": 24,
     "metadata": {},
     "output_type": "execute_result"
    }
   ],
   "source": [
    "xxx = chain(\"is there someone who complain more than twice , yes or no \")\n",
    "xxx.get('result')"
   ]
  }
 ],
 "metadata": {
  "kernelspec": {
   "display_name": "Python 3 (ipykernel)",
   "language": "python",
   "name": "python3"
  },
  "language_info": {
   "codemirror_mode": {
    "name": "ipython",
    "version": 3
   },
   "file_extension": ".py",
   "mimetype": "text/x-python",
   "name": "python",
   "nbconvert_exporter": "python",
   "pygments_lexer": "ipython3",
   "version": "3.9.13"
  }
 },
 "nbformat": 4,
 "nbformat_minor": 4
}
